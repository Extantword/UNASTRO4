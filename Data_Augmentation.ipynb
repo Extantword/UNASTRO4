{
  "nbformat": 4,
  "nbformat_minor": 0,
  "metadata": {
    "colab": {
      "provenance": []
    },
    "kernelspec": {
      "name": "python3",
      "display_name": "Python 3"
    },
    "language_info": {
      "name": "python"
    }
  },
  "cells": [
    {
      "cell_type": "markdown",
      "source": [
        "# Data Augmentation\n",
        "\n",
        "In this Colab notebook, data augmentation is performed. This involves artificially increasing the dataset's volume to have more data for training the model.\n"
      ],
      "metadata": {
        "id": "yeuKhwYUgKMB"
      }
    },
    {
      "cell_type": "code",
      "source": [
        "import cv2\n",
        "import numpy as np\n",
        "import random\n",
        "from google.colab.patches import cv2_imshow\n",
        "from google.colab import files\n",
        "from PIL import Image\n",
        "import io\n",
        "import os\n",
        "import uuid"
      ],
      "metadata": {
        "id": "hGe8s7l_Qbk9"
      },
      "execution_count": 19,
      "outputs": []
    },
    {
      "cell_type": "markdown",
      "source": [
        "# Funciones de Data Augmentation\n",
        "\n",
        "En las siguientes celdas se definen las transformaciones que se les realizarán a las imagenes. Las transformaciones que harán (en orden) son rotar, voltear, redimensionar, añadir brillo y contraste, añadir ruido gaussiano y hacerle zoom a la imagen"
      ],
      "metadata": {
        "id": "MeP-Uc1wgYOf"
      }
    },
    {
      "cell_type": "code",
      "execution_count": 2,
      "metadata": {
        "id": "ZFYuPVE7PmpE"
      },
      "outputs": [],
      "source": [
        "def rotate_image(image, angle):\n",
        "    rows, cols, _ = image.shape\n",
        "    M = cv2.getRotationMatrix2D((cols / 2, rows / 2), angle, 1)\n",
        "    rotated_image = cv2.warpAffine(image, M, (cols, rows))\n",
        "    return rotated_image\n"
      ]
    },
    {
      "cell_type": "code",
      "source": [
        "def flip_image(image, flip_code):\n",
        "    flipped_image = cv2.flip(image, flip_code)\n",
        "    return flipped_image"
      ],
      "metadata": {
        "id": "ls8QWmPXQX-Q"
      },
      "execution_count": 3,
      "outputs": []
    },
    {
      "cell_type": "code",
      "source": [
        "def random_crop(image, crop_height, crop_width):\n",
        "    h, w, _ = image.shape\n",
        "    top = random.randint(0, h - crop_height)\n",
        "    left = random.randint(0, w - crop_width)\n",
        "    cropped_image = image[top:top + crop_height, left:left + crop_width]\n",
        "    return cropped_image\n"
      ],
      "metadata": {
        "id": "P1pil4gLQd0t"
      },
      "execution_count": 4,
      "outputs": []
    },
    {
      "cell_type": "code",
      "source": [
        "def adjust_brightness_contrast(image, alpha, beta):\n",
        "    adjusted_image = cv2.convertScaleAbs(image, alpha=alpha, beta=beta)\n",
        "    return adjusted_image\n"
      ],
      "metadata": {
        "id": "1PRgJ21NQjSi"
      },
      "execution_count": 5,
      "outputs": []
    },
    {
      "cell_type": "code",
      "source": [
        "def add_gaussian_noise(image, mean=0, std=25):\n",
        "    noise = np.random.normal(mean, std, image.shape).astype(np.uint8)\n",
        "    noisy_image = cv2.add(image, noise)\n",
        "    return noisy_image\n"
      ],
      "metadata": {
        "id": "2W9-ZRXKQkj6"
      },
      "execution_count": 6,
      "outputs": []
    },
    {
      "cell_type": "code",
      "source": [
        "def zoom_image(image, scale_factor):\n",
        "    h, w, _ = image.shape\n",
        "    new_h, new_w = int(h * scale_factor), int(w * scale_factor)\n",
        "    zoomed_image = cv2.resize(image, (new_w, new_h))\n",
        "    return zoomed_image\n"
      ],
      "metadata": {
        "id": "s0jvW6bGQs_4"
      },
      "execution_count": 7,
      "outputs": []
    },
    {
      "cell_type": "markdown",
      "source": [
        "A continuación definimos una función que realiza todas las transformaciones anteriores a una sola imagen"
      ],
      "metadata": {
        "id": "mADE7BgLhCNp"
      }
    },
    {
      "cell_type": "code",
      "source": [
        "def aument(img):\n",
        "\n",
        "  return [rotate_image(img, 35), flip_image(img, 1), adjust_brightness_contrast(img, 1.0, 50), add_gaussian_noise(img), zoom_image(img, 30), random_crop(img, 300, 300)]\n"
      ],
      "metadata": {
        "id": "J0kFoT3rQvI_"
      },
      "execution_count": 8,
      "outputs": []
    },
    {
      "cell_type": "markdown",
      "source": [
        "# Carga de imágenes\n",
        "\n",
        "A continuación cargamos las imágenes a las cuales les queremos realizar el proceso de data augmentation."
      ],
      "metadata": {
        "id": "_vx7MCGFhHLu"
      }
    },
    {
      "cell_type": "code",
      "source": [
        "uploaded = files.upload()\n",
        "image_files = []\n",
        "image_filenames = []\n",
        "\n",
        "for filename, data in uploaded.items():\n",
        "    nparr = np.frombuffer(data, np.uint8)\n",
        "    img = cv2.imdecode(nparr, cv2.IMREAD_COLOR)\n",
        "    image_files.append(img)\n",
        "    unique_code = str(uuid.uuid4())[:8]  # Genera un código único de 8 caracteres\n",
        "    image_filenames.append(f'image_{unique_code}.jpg')\n"
      ],
      "metadata": {
        "colab": {
          "base_uri": "https://localhost:8080/",
          "height": 316
        },
        "id": "jAxIgQ5Ihb2n",
        "outputId": "7e42a8fc-7df4-43dc-9a14-ba857aab0f07"
      },
      "execution_count": 15,
      "outputs": [
        {
          "output_type": "display_data",
          "data": {
            "text/plain": [
              "<IPython.core.display.HTML object>"
            ],
            "text/html": [
              "\n",
              "     <input type=\"file\" id=\"files-bcddb40d-9998-4051-bce6-9f50818d47a6\" name=\"files[]\" multiple disabled\n",
              "        style=\"border:none\" />\n",
              "     <output id=\"result-bcddb40d-9998-4051-bce6-9f50818d47a6\">\n",
              "      Upload widget is only available when the cell has been executed in the\n",
              "      current browser session. Please rerun this cell to enable.\n",
              "      </output>\n",
              "      <script>// Copyright 2017 Google LLC\n",
              "//\n",
              "// Licensed under the Apache License, Version 2.0 (the \"License\");\n",
              "// you may not use this file except in compliance with the License.\n",
              "// You may obtain a copy of the License at\n",
              "//\n",
              "//      http://www.apache.org/licenses/LICENSE-2.0\n",
              "//\n",
              "// Unless required by applicable law or agreed to in writing, software\n",
              "// distributed under the License is distributed on an \"AS IS\" BASIS,\n",
              "// WITHOUT WARRANTIES OR CONDITIONS OF ANY KIND, either express or implied.\n",
              "// See the License for the specific language governing permissions and\n",
              "// limitations under the License.\n",
              "\n",
              "/**\n",
              " * @fileoverview Helpers for google.colab Python module.\n",
              " */\n",
              "(function(scope) {\n",
              "function span(text, styleAttributes = {}) {\n",
              "  const element = document.createElement('span');\n",
              "  element.textContent = text;\n",
              "  for (const key of Object.keys(styleAttributes)) {\n",
              "    element.style[key] = styleAttributes[key];\n",
              "  }\n",
              "  return element;\n",
              "}\n",
              "\n",
              "// Max number of bytes which will be uploaded at a time.\n",
              "const MAX_PAYLOAD_SIZE = 100 * 1024;\n",
              "\n",
              "function _uploadFiles(inputId, outputId) {\n",
              "  const steps = uploadFilesStep(inputId, outputId);\n",
              "  const outputElement = document.getElementById(outputId);\n",
              "  // Cache steps on the outputElement to make it available for the next call\n",
              "  // to uploadFilesContinue from Python.\n",
              "  outputElement.steps = steps;\n",
              "\n",
              "  return _uploadFilesContinue(outputId);\n",
              "}\n",
              "\n",
              "// This is roughly an async generator (not supported in the browser yet),\n",
              "// where there are multiple asynchronous steps and the Python side is going\n",
              "// to poll for completion of each step.\n",
              "// This uses a Promise to block the python side on completion of each step,\n",
              "// then passes the result of the previous step as the input to the next step.\n",
              "function _uploadFilesContinue(outputId) {\n",
              "  const outputElement = document.getElementById(outputId);\n",
              "  const steps = outputElement.steps;\n",
              "\n",
              "  const next = steps.next(outputElement.lastPromiseValue);\n",
              "  return Promise.resolve(next.value.promise).then((value) => {\n",
              "    // Cache the last promise value to make it available to the next\n",
              "    // step of the generator.\n",
              "    outputElement.lastPromiseValue = value;\n",
              "    return next.value.response;\n",
              "  });\n",
              "}\n",
              "\n",
              "/**\n",
              " * Generator function which is called between each async step of the upload\n",
              " * process.\n",
              " * @param {string} inputId Element ID of the input file picker element.\n",
              " * @param {string} outputId Element ID of the output display.\n",
              " * @return {!Iterable<!Object>} Iterable of next steps.\n",
              " */\n",
              "function* uploadFilesStep(inputId, outputId) {\n",
              "  const inputElement = document.getElementById(inputId);\n",
              "  inputElement.disabled = false;\n",
              "\n",
              "  const outputElement = document.getElementById(outputId);\n",
              "  outputElement.innerHTML = '';\n",
              "\n",
              "  const pickedPromise = new Promise((resolve) => {\n",
              "    inputElement.addEventListener('change', (e) => {\n",
              "      resolve(e.target.files);\n",
              "    });\n",
              "  });\n",
              "\n",
              "  const cancel = document.createElement('button');\n",
              "  inputElement.parentElement.appendChild(cancel);\n",
              "  cancel.textContent = 'Cancel upload';\n",
              "  const cancelPromise = new Promise((resolve) => {\n",
              "    cancel.onclick = () => {\n",
              "      resolve(null);\n",
              "    };\n",
              "  });\n",
              "\n",
              "  // Wait for the user to pick the files.\n",
              "  const files = yield {\n",
              "    promise: Promise.race([pickedPromise, cancelPromise]),\n",
              "    response: {\n",
              "      action: 'starting',\n",
              "    }\n",
              "  };\n",
              "\n",
              "  cancel.remove();\n",
              "\n",
              "  // Disable the input element since further picks are not allowed.\n",
              "  inputElement.disabled = true;\n",
              "\n",
              "  if (!files) {\n",
              "    return {\n",
              "      response: {\n",
              "        action: 'complete',\n",
              "      }\n",
              "    };\n",
              "  }\n",
              "\n",
              "  for (const file of files) {\n",
              "    const li = document.createElement('li');\n",
              "    li.append(span(file.name, {fontWeight: 'bold'}));\n",
              "    li.append(span(\n",
              "        `(${file.type || 'n/a'}) - ${file.size} bytes, ` +\n",
              "        `last modified: ${\n",
              "            file.lastModifiedDate ? file.lastModifiedDate.toLocaleDateString() :\n",
              "                                    'n/a'} - `));\n",
              "    const percent = span('0% done');\n",
              "    li.appendChild(percent);\n",
              "\n",
              "    outputElement.appendChild(li);\n",
              "\n",
              "    const fileDataPromise = new Promise((resolve) => {\n",
              "      const reader = new FileReader();\n",
              "      reader.onload = (e) => {\n",
              "        resolve(e.target.result);\n",
              "      };\n",
              "      reader.readAsArrayBuffer(file);\n",
              "    });\n",
              "    // Wait for the data to be ready.\n",
              "    let fileData = yield {\n",
              "      promise: fileDataPromise,\n",
              "      response: {\n",
              "        action: 'continue',\n",
              "      }\n",
              "    };\n",
              "\n",
              "    // Use a chunked sending to avoid message size limits. See b/62115660.\n",
              "    let position = 0;\n",
              "    do {\n",
              "      const length = Math.min(fileData.byteLength - position, MAX_PAYLOAD_SIZE);\n",
              "      const chunk = new Uint8Array(fileData, position, length);\n",
              "      position += length;\n",
              "\n",
              "      const base64 = btoa(String.fromCharCode.apply(null, chunk));\n",
              "      yield {\n",
              "        response: {\n",
              "          action: 'append',\n",
              "          file: file.name,\n",
              "          data: base64,\n",
              "        },\n",
              "      };\n",
              "\n",
              "      let percentDone = fileData.byteLength === 0 ?\n",
              "          100 :\n",
              "          Math.round((position / fileData.byteLength) * 100);\n",
              "      percent.textContent = `${percentDone}% done`;\n",
              "\n",
              "    } while (position < fileData.byteLength);\n",
              "  }\n",
              "\n",
              "  // All done.\n",
              "  yield {\n",
              "    response: {\n",
              "      action: 'complete',\n",
              "    }\n",
              "  };\n",
              "}\n",
              "\n",
              "scope.google = scope.google || {};\n",
              "scope.google.colab = scope.google.colab || {};\n",
              "scope.google.colab._files = {\n",
              "  _uploadFiles,\n",
              "  _uploadFilesContinue,\n",
              "};\n",
              "})(self);\n",
              "</script> "
            ]
          },
          "metadata": {}
        },
        {
          "output_type": "stream",
          "name": "stdout",
          "text": [
            "Saving img129.jpg to img129 (6).jpg\n",
            "Saving img168.jpg to img168 (6).jpg\n",
            "Saving img188.jpg to img188 (7).jpg\n",
            "Saving img16.jpg to img16 (7).jpg\n",
            "Saving img35.jpg to img35 (7).jpg\n",
            "Saving img125.jpg to img125 (3).jpg\n",
            "Saving img126.jpg to img126 (3).jpg\n",
            "Saving img127.jpg to img127 (2).jpg\n"
          ]
        }
      ]
    },
    {
      "cell_type": "markdown",
      "source": [
        "Realizamos el proceso de data augmentation para las imágenes escogidas:"
      ],
      "metadata": {
        "id": "lJdGAoVFjB-4"
      }
    },
    {
      "cell_type": "code",
      "source": [
        "images = []\n",
        "\n",
        "for image in image_files[0:10]:\n",
        "  images += aument(image)\n",
        ""
      ],
      "metadata": {
        "id": "QW0FMP5DdrWw"
      },
      "execution_count": 12,
      "outputs": []
    },
    {
      "cell_type": "markdown",
      "source": [
        "Por último guardarmos las imágenes las imágenes obtenidas en una carpeta dentro del entorno de Colab\n"
      ],
      "metadata": {
        "id": "n23Tj0hfmD0_"
      }
    },
    {
      "cell_type": "code",
      "source": [
        "output_folder = '/content/saved_images'\n",
        "os.makedirs(output_folder, exist_ok=True)\n",
        "\n",
        "# Save the images in the folder with unique filenames\n",
        "for i, img in enumerate(image_files):\n",
        "    unique_code = str(uuid.uuid4())[:8]  # Generate a unique code of 8 characters\n",
        "    filename = os.path.join(output_folder, f'image_{unique_code}.jpg')\n",
        "    cv2.imwrite(filename, img)\n",
        "\n",
        "# Verify that the images have been saved correctly\n",
        "saved_images = os.listdir(output_folder)\n",
        "print(f\"{len(saved_images)} images have been saved in '{output_folder}'\")"
      ],
      "metadata": {
        "colab": {
          "base_uri": "https://localhost:8080/"
        },
        "id": "l2aNWPTfeI1b",
        "outputId": "b55a23cf-c664-4d7c-f047-dbabee5bf898"
      },
      "execution_count": 20,
      "outputs": [
        {
          "output_type": "stream",
          "name": "stdout",
          "text": [
            "8 images have been saved in '/content/saved_images'\n"
          ]
        }
      ]
    }
  ]
}